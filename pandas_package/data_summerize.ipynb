{
 "cells": [
  {
   "cell_type": "code",
   "execution_count": 1,
   "metadata": {},
   "outputs": [
    {
     "name": "stdout",
     "output_type": "stream",
     "text": [
      "   survived  pclass     sex   age  sibsp  parch     fare embarked  class  \\\n",
      "0         0       3    male  22.0      1      0   7.2500        S  Third   \n",
      "1         1       1  female  38.0      1      0  71.2833        C  First   \n",
      "2         1       3  female  26.0      0      0   7.9250        S  Third   \n",
      "3         1       1  female  35.0      1      0  53.1000        S  First   \n",
      "4         0       3    male  35.0      0      0   8.0500        S  Third   \n",
      "\n",
      "     who  adult_male deck  embark_town alive  alone  \n",
      "0    man        True  NaN  Southampton    no  False  \n",
      "1  woman       False    C    Cherbourg   yes  False  \n",
      "2  woman       False  NaN  Southampton   yes   True  \n",
      "3  woman       False    C  Southampton   yes  False  \n",
      "4    man        True  NaN  Southampton    no   True  \n",
      "\n",
      "     survived  pclass     sex   age  sibsp  parch   fare embarked   class  \\\n",
      "886         0       2    male  27.0      0      0  13.00        S  Second   \n",
      "887         1       1  female  19.0      0      0  30.00        S   First   \n",
      "888         0       3  female   NaN      1      2  23.45        S   Third   \n",
      "889         1       1    male  26.0      0      0  30.00        C   First   \n",
      "890         0       3    male  32.0      0      0   7.75        Q   Third   \n",
      "\n",
      "       who  adult_male deck  embark_town alive  alone  \n",
      "886    man        True  NaN  Southampton    no   True  \n",
      "887  woman       False    B  Southampton   yes   True  \n",
      "888  woman       False  NaN  Southampton    no  False  \n",
      "889    man        True    C    Cherbourg   yes   True  \n",
      "890    man        True  NaN   Queenstown    no   True  \n",
      "\n",
      "(891, 15)\n",
      "<class 'pandas.core.frame.DataFrame'>\n",
      "RangeIndex: 891 entries, 0 to 890\n",
      "Data columns (total 15 columns):\n",
      " #   Column       Non-Null Count  Dtype   \n",
      "---  ------       --------------  -----   \n",
      " 0   survived     891 non-null    int64   \n",
      " 1   pclass       891 non-null    int64   \n",
      " 2   sex          891 non-null    object  \n",
      " 3   age          714 non-null    float64 \n",
      " 4   sibsp        891 non-null    int64   \n",
      " 5   parch        891 non-null    int64   \n",
      " 6   fare         891 non-null    float64 \n",
      " 7   embarked     889 non-null    object  \n",
      " 8   class        891 non-null    category\n",
      " 9   who          891 non-null    object  \n",
      " 10  adult_male   891 non-null    bool    \n",
      " 11  deck         203 non-null    category\n",
      " 12  embark_town  889 non-null    object  \n",
      " 13  alive        891 non-null    object  \n",
      " 14  alone        891 non-null    bool    \n",
      "dtypes: bool(2), category(2), float64(2), int64(4), object(5)\n",
      "memory usage: 80.7+ KB\n",
      "None\n",
      "\n"
     ]
    }
   ],
   "source": [
    "import seaborn as sns\n",
    "\n",
    "df = sns.load_dataset('titanic')\n",
    "print(df.head())    # 상위 5개 열 출력\n",
    "print() \n",
    "print(df.tail())    # 하위 5개 열 출력 \n",
    "print()\n",
    "print(df.shape)\n",
    "print(df.info())\n",
    "print()"
   ]
  },
  {
   "cell_type": "code",
   "execution_count": 2,
   "metadata": {},
   "outputs": [
    {
     "name": "stdout",
     "output_type": "stream",
     "text": [
      "sex\n",
      "male      577\n",
      "female    314\n",
      "Name: count, dtype: int64\n",
      "\n",
      "sex     survived\n",
      "male    0           468\n",
      "female  1           233\n",
      "male    1           109\n",
      "female  0            81\n",
      "Name: count, dtype: int64\n",
      "\n",
      "sex     survived\n",
      "female  0           0.090909\n",
      "        1           0.261504\n",
      "male    0           0.525253\n",
      "        1           0.122334\n",
      "Name: proportion, dtype: float64\n"
     ]
    }
   ],
   "source": [
    "print(df['sex'].value_counts()) #df[열이름], df.loc[행 이름]\n",
    "print()\n",
    "print(df[[\"sex\", \"survived\"]].value_counts())   \n",
    "print()\n",
    "print(df[[\"sex\", \"survived\"]].value_counts(normalize=True).sort_index())    # normalize = True는 분포 비율 계산"
   ]
  },
  {
   "cell_type": "code",
   "execution_count": 5,
   "metadata": {},
   "outputs": [
    {
     "data": {
      "text/plain": [
       "survived     0.383838\n",
       "age         29.699118\n",
       "dtype: float64"
      ]
     },
     "execution_count": 5,
     "metadata": {},
     "output_type": "execute_result"
    }
   ],
   "source": [
    "df[[\"survived\", \"age\"]].mean()"
   ]
  },
  {
   "cell_type": "code",
   "execution_count": 6,
   "metadata": {},
   "outputs": [
    {
     "name": "stdout",
     "output_type": "stream",
     "text": [
      "0.0\n",
      "512.3292\n",
      "14.4542\n"
     ]
    }
   ],
   "source": [
    "print(df[\"fare\"].min())\n",
    "print(df[\"fare\"].max())\n",
    "print(df[\"fare\"].median())"
   ]
  },
  {
   "cell_type": "code",
   "execution_count": 11,
   "metadata": {},
   "outputs": [
    {
     "name": "stdout",
     "output_type": "stream",
     "text": [
      "<class 'pandas.core.frame.DataFrame'>\n",
      "RangeIndex: 891 entries, 0 to 890\n",
      "Data columns (total 15 columns):\n",
      " #   Column       Non-Null Count  Dtype   \n",
      "---  ------       --------------  -----   \n",
      " 0   survived     891 non-null    int64   \n",
      " 1   pclass       891 non-null    int64   \n",
      " 2   sex          891 non-null    object  \n",
      " 3   age          714 non-null    float64 \n",
      " 4   sibsp        891 non-null    int64   \n",
      " 5   parch        891 non-null    int64   \n",
      " 6   fare         891 non-null    float64 \n",
      " 7   embarked     889 non-null    object  \n",
      " 8   class        891 non-null    category\n",
      " 9   who          891 non-null    object  \n",
      " 10  adult_male   891 non-null    bool    \n",
      " 11  deck         203 non-null    category\n",
      " 12  embark_town  889 non-null    object  \n",
      " 13  alive        891 non-null    object  \n",
      " 14  alone        891 non-null    bool    \n",
      "dtypes: bool(2), category(2), float64(2), int64(4), object(5)\n",
      "memory usage: 80.7+ KB\n",
      "None\n"
     ]
    }
   ],
   "source": [
    "print(df.info())"
   ]
  },
  {
   "cell_type": "code",
   "execution_count": 14,
   "metadata": {},
   "outputs": [
    {
     "name": "stdout",
     "output_type": "stream",
     "text": [
      "     survived  pclass     sex   age  sibsp  parch     fare embarked  class  \\\n",
      "1           1       1  female  38.0      1      0  71.2833        C  First   \n",
      "3           1       1  female  35.0      1      0  53.1000        S  First   \n",
      "6           0       1    male  54.0      0      0  51.8625        S  First   \n",
      "10          1       3  female   4.0      1      1  16.7000        S  Third   \n",
      "11          1       1  female  58.0      0      0  26.5500        S  First   \n",
      "..        ...     ...     ...   ...    ...    ...      ...      ...    ...   \n",
      "871         1       1  female  47.0      1      1  52.5542        S  First   \n",
      "872         0       1    male  33.0      0      0   5.0000        S  First   \n",
      "879         1       1  female  56.0      0      1  83.1583        C  First   \n",
      "887         1       1  female  19.0      0      0  30.0000        S  First   \n",
      "889         1       1    male  26.0      0      0  30.0000        C  First   \n",
      "\n",
      "       who  adult_male deck  embark_town alive  alone  \n",
      "1    woman       False    C    Cherbourg   yes  False  \n",
      "3    woman       False    C  Southampton   yes  False  \n",
      "6      man        True    E  Southampton    no   True  \n",
      "10   child       False    G  Southampton   yes  False  \n",
      "11   woman       False    C  Southampton   yes   True  \n",
      "..     ...         ...  ...          ...   ...    ...  \n",
      "871  woman       False    D  Southampton   yes  False  \n",
      "872    man        True    B  Southampton    no   True  \n",
      "879  woman       False    C    Cherbourg   yes  False  \n",
      "887  woman       False    B  Southampton   yes   True  \n",
      "889    man        True    C    Cherbourg   yes   True  \n",
      "\n",
      "[182 rows x 15 columns]\n",
      "\n",
      "     survived  pclass     sex   age  sibsp  parch     fare embarked   class  \\\n",
      "0           0       3    male  22.0      1      0   7.2500        S   Third   \n",
      "1           1       1  female  38.0      1      0  71.2833        C   First   \n",
      "2           1       3  female  26.0      0      0   7.9250        S   Third   \n",
      "3           1       1  female  35.0      1      0  53.1000        S   First   \n",
      "4           0       3    male  35.0      0      0   8.0500        S   Third   \n",
      "..        ...     ...     ...   ...    ...    ...      ...      ...     ...   \n",
      "885         0       3  female  39.0      0      5  29.1250        Q   Third   \n",
      "886         0       2    male  27.0      0      0  13.0000        S  Second   \n",
      "887         1       1  female  19.0      0      0  30.0000        S   First   \n",
      "889         1       1    male  26.0      0      0  30.0000        C   First   \n",
      "890         0       3    male  32.0      0      0   7.7500        Q   Third   \n",
      "\n",
      "       who  adult_male deck  embark_town alive  alone  \n",
      "0      man        True  NaN  Southampton    no  False  \n",
      "1    woman       False    C    Cherbourg   yes  False  \n",
      "2    woman       False  NaN  Southampton   yes   True  \n",
      "3    woman       False    C  Southampton   yes  False  \n",
      "4      man        True  NaN  Southampton    no   True  \n",
      "..     ...         ...  ...          ...   ...    ...  \n",
      "885  woman       False  NaN   Queenstown    no  False  \n",
      "886    man        True  NaN  Southampton    no   True  \n",
      "887  woman       False    B  Southampton   yes   True  \n",
      "889    man        True    C    Cherbourg   yes   True  \n",
      "890    man        True  NaN   Queenstown    no   True  \n",
      "\n",
      "[714 rows x 15 columns]\n",
      "\n",
      "     survived  pclass     sex  sibsp  parch     fare   class    who  \\\n",
      "0           0       3    male      1      0   7.2500   Third    man   \n",
      "1           1       1  female      1      0  71.2833   First  woman   \n",
      "2           1       3  female      0      0   7.9250   Third  woman   \n",
      "3           1       1  female      1      0  53.1000   First  woman   \n",
      "4           0       3    male      0      0   8.0500   Third    man   \n",
      "..        ...     ...     ...    ...    ...      ...     ...    ...   \n",
      "886         0       2    male      0      0  13.0000  Second    man   \n",
      "887         1       1  female      0      0  30.0000   First  woman   \n",
      "888         0       3  female      1      2  23.4500   Third  woman   \n",
      "889         1       1    male      0      0  30.0000   First    man   \n",
      "890         0       3    male      0      0   7.7500   Third    man   \n",
      "\n",
      "     adult_male alive  alone  \n",
      "0          True    no  False  \n",
      "1         False   yes  False  \n",
      "2         False   yes   True  \n",
      "3         False   yes  False  \n",
      "4          True    no   True  \n",
      "..          ...   ...    ...  \n",
      "886        True    no   True  \n",
      "887       False   yes   True  \n",
      "888       False    no  False  \n",
      "889        True   yes   True  \n",
      "890        True    no   True  \n",
      "\n",
      "[891 rows x 11 columns]\n"
     ]
    }
   ],
   "source": [
    "# 결측치 처리하기\n",
    "print(df.dropna())\n",
    "print()\n",
    "print(df.dropna(subset=[\"age\"], axis = 0))  # \"age\" 열에서 결측치가 있는 데이터만 삭제, axis = 0 이므로 행 기준 정렬\n",
    "print()\n",
    "print(df.dropna(axis = 1))  # axis = 1 이므로 열 기준 정렬 "
   ]
  },
  {
   "cell_type": "code",
   "execution_count": 15,
   "metadata": {},
   "outputs": [
    {
     "name": "stdout",
     "output_type": "stream",
     "text": [
      "     survived  pclass     sex   age  sibsp  parch     fare embarked   class  \\\n",
      "0           0       3    male  22.0      1      0   7.2500        S   Third   \n",
      "1           1       1  female  38.0      1      0  71.2833        C   First   \n",
      "2           1       3  female  26.0      0      0   7.9250        S   Third   \n",
      "3           1       1  female  35.0      1      0  53.1000        S   First   \n",
      "4           0       3    male  35.0      0      0   8.0500        S   Third   \n",
      "..        ...     ...     ...   ...    ...    ...      ...      ...     ...   \n",
      "886         0       2    male  27.0      0      0  13.0000        S  Second   \n",
      "887         1       1  female  19.0      0      0  30.0000        S   First   \n",
      "888         0       3  female   NaN      1      2  23.4500        S   Third   \n",
      "889         1       1    male  26.0      0      0  30.0000        C   First   \n",
      "890         0       3    male  32.0      0      0   7.7500        Q   Third   \n",
      "\n",
      "       who  adult_male  embark_town alive  alone  \n",
      "0      man        True  Southampton    no  False  \n",
      "1    woman       False    Cherbourg   yes  False  \n",
      "2    woman       False  Southampton   yes   True  \n",
      "3    woman       False  Southampton   yes  False  \n",
      "4      man        True  Southampton    no   True  \n",
      "..     ...         ...          ...   ...    ...  \n",
      "886    man        True  Southampton    no   True  \n",
      "887  woman       False  Southampton   yes   True  \n",
      "888  woman       False  Southampton    no  False  \n",
      "889    man        True    Cherbourg   yes   True  \n",
      "890    man        True   Queenstown    no   True  \n",
      "\n",
      "[891 rows x 14 columns]\n"
     ]
    }
   ],
   "source": [
    "print(df.dropna(axis = 1, thresh= 300)) # 결측치 300개 이상 갖는 열을 삭제"
   ]
  },
  {
   "cell_type": "code",
   "execution_count": 23,
   "metadata": {},
   "outputs": [
    {
     "name": "stdout",
     "output_type": "stream",
     "text": [
      "   survived  pclass     sex   age  sibsp  parch     fare embarked  class  \\\n",
      "0         0       3    male  22.0      1      0   7.2500        S  Third   \n",
      "1         1       1  female  38.0      1      0  71.2833        C  First   \n",
      "2         1       3  female  26.0      0      0   7.9250        S  Third   \n",
      "3         1       1  female  35.0      1      0  53.1000        S  First   \n",
      "4         0       3    male  35.0      0      0   8.0500        S  Third   \n",
      "5         0       3    male   NaN      0      0   8.4583        Q  Third   \n",
      "\n",
      "     who  adult_male deck  embark_town alive  alone  \n",
      "0    man        True  NaN  Southampton    no  False  \n",
      "1  woman       False    C    Cherbourg   yes  False  \n",
      "2  woman       False  NaN  Southampton   yes   True  \n",
      "3  woman       False    C  Southampton   yes  False  \n",
      "4    man        True  NaN  Southampton    no   True  \n",
      "5    man        True  NaN   Queenstown    no   True  \n",
      "\n",
      "0      22.000000\n",
      "1      38.000000\n",
      "2      26.000000\n",
      "3      35.000000\n",
      "4      35.000000\n",
      "         ...    \n",
      "886    27.000000\n",
      "887    19.000000\n",
      "888    29.699118\n",
      "889    26.000000\n",
      "890    32.000000\n",
      "Name: age, Length: 891, dtype: float64\n",
      "\n",
      "0    22.0\n",
      "1    38.0\n",
      "2    26.0\n",
      "3    35.0\n",
      "4    35.0\n",
      "5     NaN\n",
      "Name: age, dtype: float64\n"
     ]
    }
   ],
   "source": [
    "# 결측치를 다른 값으로 대체하기 \n",
    "df_2 = df.copy()\n",
    "print(df_2.head(6))\n",
    "print()\n",
    "mean_age = df_2[\"age\"].mean()\n",
    "print(df_2[\"age\"].fillna(mean_age))\n",
    "print()\n",
    "print(df_2[\"age\"].head(6))"
   ]
  },
  {
   "cell_type": "code",
   "execution_count": 26,
   "metadata": {},
   "outputs": [
    {
     "name": "stdout",
     "output_type": "stream",
     "text": [
      "   deck deck_ffill deck_bfill\n",
      "0   NaN        NaN          C\n",
      "1     C          C          C\n",
      "2   NaN          C          C\n",
      "3     C          C          C\n",
      "4   NaN          C          E\n",
      "5   NaN          C          E\n",
      "6     E          E          E\n",
      "7   NaN          E          G\n",
      "8   NaN          E          G\n",
      "9   NaN          E          G\n",
      "10    G          G          G\n",
      "11    C          C          C\n"
     ]
    },
    {
     "name": "stderr",
     "output_type": "stream",
     "text": [
      "C:\\Users\\user\\AppData\\Local\\Temp\\ipykernel_21904\\2571895674.py:1: FutureWarning: Series.fillna with 'method' is deprecated and will raise in a future version. Use obj.ffill() or obj.bfill() instead.\n",
      "  df_2[\"deck_ffill\"] = df_2[\"deck\"].fillna(method = \"ffill\")  # ffill이란 결측치가 있는 경우 위의 행 중 결측치가 나타나기 전의 값으로 바꿔줌\n",
      "C:\\Users\\user\\AppData\\Local\\Temp\\ipykernel_21904\\2571895674.py:2: FutureWarning: Series.fillna with 'method' is deprecated and will raise in a future version. Use obj.ffill() or obj.bfill() instead.\n",
      "  df_2[\"deck_bfill\"] = df_2[\"deck\"].fillna(method = \"bfill\")  # bfill이란 결측치가 있는 경우 아래의 행 중 결측치가 아닌 첫번째 값으로 바꿔줌\n"
     ]
    }
   ],
   "source": [
    "df_2[\"deck_ffill\"] = df_2[\"deck\"].fillna(method = \"ffill\")  # ffill이란 결측치가 있는 경우 위의 행 중 결측치가 나타나기 전의 값으로 바꿔줌 \n",
    "df_2[\"deck_bfill\"] = df_2[\"deck\"].fillna(method = \"bfill\")  # bfill이란 결측치가 있는 경우 아래의 행 중 결측치가 아닌 첫번째 값으로 바꿔줌 \n",
    "print(df_2[[\"deck\", \"deck_ffill\", \"deck_bfill\"]].head(12))"
   ]
  },
  {
   "cell_type": "code",
   "execution_count": 27,
   "metadata": {},
   "outputs": [
    {
     "name": "stdout",
     "output_type": "stream",
     "text": [
      "                            mpg  cylinders  displacement  horsepower  weight  \\\n",
      "name                                                                           \n",
      "chevrolet chevelle malibu  18.0          8         307.0       130.0    3504   \n",
      "buick skylark 320          15.0          8         350.0       165.0    3693   \n",
      "plymouth satellite         18.0          8         318.0       150.0    3436   \n",
      "amc rebel sst              16.0          8         304.0       150.0    3433   \n",
      "ford torino                17.0          8         302.0       140.0    3449   \n",
      "\n",
      "                           acceleration  model_year origin  \n",
      "name                                                        \n",
      "chevrolet chevelle malibu          12.0          70    usa  \n",
      "buick skylark 320                  11.5          70    usa  \n",
      "plymouth satellite                 11.0          70    usa  \n",
      "amc rebel sst                      12.0          70    usa  \n",
      "ford torino                        10.5          70    usa  \n"
     ]
    }
   ],
   "source": [
    "# 열을 인덱스(행)으로 다루기\n",
    "import seaborn as sns\n",
    "\n",
    "df = sns.load_dataset(\"mpg\")\n",
    "df.set_index(\"name\", inplace = True)\n",
    "print(df.head())"
   ]
  },
  {
   "cell_type": "code",
   "execution_count": 29,
   "metadata": {},
   "outputs": [
    {
     "name": "stdout",
     "output_type": "stream",
     "text": [
      "                          mpg  cylinders  displacement  horsepower  weight  \\\n",
      "name                                                                         \n",
      "amc ambassador brougham  13.0          8         360.0       175.0    3821   \n",
      "amc ambassador dpl       15.0          8         390.0       190.0    3850   \n",
      "amc ambassador sst       17.0          8         304.0       150.0    3672   \n",
      "amc concord              24.3          4         151.0        90.0    3003   \n",
      "amc concord              19.4          6         232.0        90.0    3210   \n",
      "\n",
      "                         acceleration  model_year origin  \n",
      "name                                                      \n",
      "amc ambassador brougham          11.0          73    usa  \n",
      "amc ambassador dpl                8.5          70    usa  \n",
      "amc ambassador sst               11.5          72    usa  \n",
      "amc concord                      20.1          80    usa  \n",
      "amc concord                      17.2          78    usa  \n"
     ]
    }
   ],
   "source": [
    "df.sort_index(inplace = True)   # 내림차순으로 정렬하고 싶을 때 : (inplace = True, ascending = False)\n",
    "print(df.head())"
   ]
  },
  {
   "cell_type": "code",
   "execution_count": 30,
   "metadata": {},
   "outputs": [
    {
     "name": "stdout",
     "output_type": "stream",
     "text": [
      "                      name   mpg  cylinders  displacement  horsepower  weight  \\\n",
      "0  amc ambassador brougham  13.0          8         360.0       175.0    3821   \n",
      "1       amc ambassador dpl  15.0          8         390.0       190.0    3850   \n",
      "2       amc ambassador sst  17.0          8         304.0       150.0    3672   \n",
      "3              amc concord  24.3          4         151.0        90.0    3003   \n",
      "4              amc concord  19.4          6         232.0        90.0    3210   \n",
      "\n",
      "   acceleration  model_year origin  \n",
      "0          11.0          73    usa  \n",
      "1           8.5          70    usa  \n",
      "2          11.5          72    usa  \n",
      "3          20.1          80    usa  \n",
      "4          17.2          78    usa  \n"
     ]
    }
   ],
   "source": [
    "df.reset_index(inplace = True)  # 인덱스 재설정\n",
    "print(df.head())"
   ]
  },
  {
   "cell_type": "code",
   "execution_count": 31,
   "metadata": {},
   "outputs": [
    {
     "name": "stdout",
     "output_type": "stream",
     "text": [
      "[8 4 6 3 5]\n"
     ]
    }
   ],
   "source": [
    "#필터링\n",
    "df = sns.load_dataset(\"mpg\")\n",
    "print(df[\"cylinders\"].unique())"
   ]
  },
  {
   "cell_type": "code",
   "execution_count": 36,
   "metadata": {},
   "outputs": [
    {
     "name": "stdout",
     "output_type": "stream",
     "text": [
      "388    False\n",
      "389     True\n",
      "390    False\n",
      "391    False\n",
      "392    False\n",
      "393    False\n",
      "394    False\n",
      "395    False\n",
      "396    False\n",
      "397    False\n",
      "Name: cylinders, dtype: bool\n"
     ]
    }
   ],
   "source": [
    "filter_bool = (df[\"cylinders\"] == 6)\n",
    "print(filter_bool.tail(10))"
   ]
  },
  {
   "cell_type": "code",
   "execution_count": 38,
   "metadata": {},
   "outputs": [
    {
     "name": "stdout",
     "output_type": "stream",
     "text": [
      "      mpg  cylinders  displacement  horsepower  weight  acceleration  \\\n",
      "15   22.0          6         198.0        95.0    2833          15.5   \n",
      "16   18.0          6         199.0        97.0    2774          15.5   \n",
      "17   21.0          6         200.0        85.0    2587          16.0   \n",
      "24   21.0          6         199.0        90.0    2648          15.0   \n",
      "33   19.0          6         232.0       100.0    2634          13.0   \n",
      "..    ...        ...           ...         ...     ...           ...   \n",
      "365  20.2          6         200.0        88.0    3060          17.1   \n",
      "366  17.6          6         225.0        85.0    3465          16.6   \n",
      "386  25.0          6         181.0       110.0    2945          16.4   \n",
      "387  38.0          6         262.0        85.0    3015          17.0   \n",
      "389  22.0          6         232.0       112.0    2835          14.7   \n",
      "\n",
      "     model_year origin                               name  \n",
      "15           70    usa                    plymouth duster  \n",
      "16           70    usa                         amc hornet  \n",
      "17           70    usa                      ford maverick  \n",
      "24           70    usa                        amc gremlin  \n",
      "33           71    usa                        amc gremlin  \n",
      "..          ...    ...                                ...  \n",
      "365          81    usa                    ford granada gl  \n",
      "366          81    usa             chrysler lebaron salon  \n",
      "386          82    usa              buick century limited  \n",
      "387          82    usa  oldsmobile cutlass ciera (diesel)  \n",
      "389          82    usa                     ford granada l  \n",
      "\n",
      "[84 rows x 9 columns]\n"
     ]
    }
   ],
   "source": [
    "print(df.loc[filter_bool,]) # 행 인덱스에 불리언 시리즈 대입"
   ]
  },
  {
   "cell_type": "code",
   "execution_count": 43,
   "metadata": {},
   "outputs": [
    {
     "name": "stdout",
     "output_type": "stream",
     "text": [
      "     cylinders  horsepower              name\n",
      "23           4       113.0          bmw 2002\n",
      "76           4       112.0   volvo 145e (sw)\n",
      "120          4       112.0       volvo 144ea\n",
      "122          4       110.0         saab 99le\n",
      "180          4       115.0         saab 99le\n",
      "207          4       102.0         volvo 245\n",
      "242          4       110.0          bmw 320i\n",
      "271          4       105.0  plymouth sapporo\n",
      "276          4       115.0        saab 99gle\n",
      "323          4       105.0        dodge colt\n",
      "357          4       100.0      datsun 200sx\n"
     ]
    }
   ],
   "source": [
    "filter_bool2 = (df[\"cylinders\"] == 4) & (df[\"horsepower\"] >= 100)\n",
    "print(df.loc[filter_bool2, [\"cylinders\", \"horsepower\", \"name\"]])"
   ]
  },
  {
   "cell_type": "code",
   "execution_count": 46,
   "metadata": {},
   "outputs": [
    {
     "name": "stdout",
     "output_type": "stream",
     "text": [
      "      mpg  cylinders  displacement  horsepower  weight  acceleration  \\\n",
      "155  15.0          6         250.0        72.0    3158          19.5   \n",
      "193  24.0          6         200.0        81.0    3012          17.6   \n",
      "17   21.0          6         200.0        85.0    2587          16.0   \n",
      "100  18.0          6         250.0        88.0    3021          16.5   \n",
      "103  11.0          8         400.0       150.0    4997          14.0   \n",
      "38   14.0          8         350.0       165.0    4209          12.0   \n",
      "62   13.0          8         350.0       165.0    4274          12.0   \n",
      "6    14.0          8         454.0       220.0    4354           9.0   \n",
      "126  21.0          6         200.0         NaN    2875          17.0   \n",
      "\n",
      "     model_year origin              name  \n",
      "155          75    usa     ford maverick  \n",
      "193          76    usa     ford maverick  \n",
      "17           70    usa     ford maverick  \n",
      "100          73    usa     ford maverick  \n",
      "103          73    usa  chevrolet impala  \n",
      "38           71    usa  chevrolet impala  \n",
      "62           72    usa  chevrolet impala  \n",
      "6            70    usa  chevrolet impala  \n",
      "126          74    usa     ford maverick  \n"
     ]
    }
   ],
   "source": [
    "filter_isin = df[\"name\"].isin([\"ford maverick\", \"ford mstang ii\", \"chevrolet impala\"])\n",
    "print(df.loc[filter_isin,].sort_values(\"horsepower\"))"
   ]
  }
 ],
 "metadata": {
  "kernelspec": {
   "display_name": "base",
   "language": "python",
   "name": "python3"
  },
  "language_info": {
   "codemirror_mode": {
    "name": "ipython",
    "version": 3
   },
   "file_extension": ".py",
   "mimetype": "text/x-python",
   "name": "python",
   "nbconvert_exporter": "python",
   "pygments_lexer": "ipython3",
   "version": "3.12.4"
  }
 },
 "nbformat": 4,
 "nbformat_minor": 2
}
