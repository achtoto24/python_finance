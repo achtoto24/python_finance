{
 "cells": [
  {
   "cell_type": "code",
   "execution_count": 3,
   "metadata": {},
   "outputs": [
    {
     "name": "stdout",
     "output_type": "stream",
     "text": [
      "   col1  col2  col3\n",
      "0     1     4     7\n",
      "1     2     5     8\n",
      "2     3     6     9\n"
     ]
    }
   ],
   "source": [
    "import pandas as pd\n",
    "dict_data = {\"col1\" : [1, 2, 3], \"col2\" : [4, 5, 6], \"col3\" :[7, 8, 9]}\n",
    "df = pd.DataFrame(dict_data)\n",
    "print(df)"
   ]
  },
  {
   "cell_type": "code",
   "execution_count": 4,
   "metadata": {},
   "outputs": [
    {
     "name": "stdout",
     "output_type": "stream",
     "text": [
      "   0  1  2\n",
      "0  1  2  3\n",
      "1  4  5  6\n",
      "2  7  8  9\n"
     ]
    }
   ],
   "source": [
    "# making DataFrame by using list as simple statement\n",
    "from pandas import DataFrame\n",
    "print(DataFrame([[1, 2, 3], [4, 5, 6], [7, 8, 9]]))"
   ]
  },
  {
   "cell_type": "code",
   "execution_count": 5,
   "metadata": {},
   "outputs": [
    {
     "name": "stdout",
     "output_type": "stream",
     "text": [
      "        col1  col2  col3\n",
      "index1     1     2     3\n",
      "index2     4     5     6\n",
      "index3     7     8     9\n"
     ]
    }
   ],
   "source": [
    "print(DataFrame([[1, 2, 3], [4, 5, 6], [7, 8, 9]], index = [\"index1\", \"index2\", \"index3\"], columns = [\"col1\", \"col2\", \"col3\"]))"
   ]
  },
  {
   "cell_type": "code",
   "execution_count": 6,
   "metadata": {},
   "outputs": [
    {
     "name": "stdout",
     "output_type": "stream",
     "text": [
      "    열1  열2  열3\n",
      "행1   1   2   3\n",
      "행2   4   5   6\n",
      "행3   7   8   9\n"
     ]
    }
   ],
   "source": [
    "df = DataFrame([[1, 2, 3], [4, 5, 6], [7, 8, 9]], index = [\"index1\", \"index2\", \"index3\"], columns = [\"col1\", \"col2\", \"col3\"])\n",
    "df.index = [\"행1\", \"행2\", \"행3\"]\n",
    "df.columns = [\"열1\", \"열2\", \"열3\"]\n",
    "print(df)"
   ]
  },
  {
   "cell_type": "code",
   "execution_count": 7,
   "metadata": {},
   "outputs": [
    {
     "name": "stdout",
     "output_type": "stream",
     "text": [
      "       열1  열2  열3\n",
      "첫번째 행   1   2   3\n",
      "행2      4   5   6\n",
      "행3      7   8   9\n"
     ]
    }
   ],
   "source": [
    "df.rename(index = {\"행1\" : \"첫번째 행\"}, inplace = True)    # colums도 마찬가지!, inplace = True는 DataFrame에 그대로 반영된다는 의미\n",
    "print(df)"
   ]
  },
  {
   "cell_type": "code",
   "execution_count": 8,
   "metadata": {},
   "outputs": [
    {
     "name": "stdout",
     "output_type": "stream",
     "text": [
      "       열1  열2\n",
      "첫번째 행   1   2\n",
      "행2      4   5\n"
     ]
    }
   ],
   "source": [
    "df2 = df\n",
    "df2.drop(\"행3\", axis = 0, inplace = True)   # axis = 0은 행\n",
    "df2.drop(\"열3\", axis = 1, inplace = True)   # axis = 1은 열\n",
    "print(df)"
   ]
  },
  {
   "cell_type": "code",
   "execution_count": 9,
   "metadata": {},
   "outputs": [
    {
     "name": "stdout",
     "output_type": "stream",
     "text": [
      "        col1  col2  col3  col4\n",
      "index1     1     5     9    13\n",
      "index2     2     6    10    14\n",
      "index3     3     7    11    15\n",
      "index4     4     8    12    16\n"
     ]
    }
   ],
   "source": [
    "# sample\n",
    "dict_data = {\"col1\" : [1, 2, 3, 4], \n",
    "             \"col2\" : [5, 6, 7, 8],\n",
    "             \"col3\" : [9, 10, 11, 12],\n",
    "             \"col4\" :[13, 14, 15, 16]}\n",
    "df = DataFrame(dict_data, index = [\"index1\", \"index2\", \"index3\", \"index4\"])\n",
    "print(df)"
   ]
  },
  {
   "cell_type": "code",
   "execution_count": 10,
   "metadata": {},
   "outputs": [
    {
     "name": "stdout",
     "output_type": "stream",
     "text": [
      "index1    1\n",
      "index2    2\n",
      "index3    3\n",
      "index4    4\n",
      "Name: col1, dtype: int64\n",
      "\n",
      "index1    1\n",
      "index2    2\n",
      "index3    3\n",
      "index4    4\n",
      "Name: col1, dtype: int64\n",
      "\n",
      "<class 'pandas.core.series.Series'>\n",
      "\n",
      "<class 'pandas.core.frame.DataFrame'>\n",
      "\n",
      "        col1  col2\n",
      "index1     1     5\n",
      "index2     2     6\n",
      "index3     3     7\n",
      "index4     4     8\n",
      "<class 'pandas.core.frame.DataFrame'>\n"
     ]
    }
   ],
   "source": [
    "print(df[\"col1\"])\n",
    "print()\n",
    "print(df.col1)  #따옴표 안 붙여도 됨\n",
    "print()\n",
    "print(type(df.col1))    #Series 타입 \n",
    "print()\n",
    "print(type(df[[\"col1\"]]))   #Series를 DataFrame으로 만들기 위해서는 []가 하나 더 필요함  \n",
    "print()\n",
    "print(df[[\"col1\", \"col2\"]])\n",
    "print(type(df[[\"col1\", \"col2\"]]))"
   ]
  },
  {
   "cell_type": "code",
   "execution_count": 25,
   "metadata": {},
   "outputs": [
    {
     "name": "stdout",
     "output_type": "stream",
     "text": [
      "col1     1\n",
      "col2     5\n",
      "col3     9\n",
      "col4    13\n",
      "Name: index1, dtype: int64\n",
      "\n",
      "col1     1\n",
      "col2     5\n",
      "col3     9\n",
      "col4    13\n",
      "Name: index1, dtype: int64\n",
      "<class 'pandas.core.series.Series'>\n",
      "<class 'pandas.core.frame.DataFrame'>\n"
     ]
    }
   ],
   "source": [
    "print(df.loc[\"index1\"]) # \"index1\" 행 출력 \n",
    "print()\n",
    "print(df.iloc[0])   # 0번째 행 출력 \n",
    "print(type(df.iloc[0])) # Series 타입임\n",
    "print(type(df.iloc[[0]]))   #DataFrame 타입임"
   ]
  },
  {
   "cell_type": "code",
   "execution_count": 16,
   "metadata": {},
   "outputs": [
    {
     "name": "stdout",
     "output_type": "stream",
     "text": [
      "        col1  col2  col3  col4\n",
      "index1     1     5     9    13\n",
      "index2     2     6    10    14\n",
      "index3     3     7    11    15\n",
      "        col1  col2  col3  col4\n",
      "index1     1     5     9    13\n",
      "index2     2     6    10    14\n"
     ]
    }
   ],
   "source": [
    "print(df.loc[\"index1\" : \"index3\"])  # 범위 끝 포함o\n",
    "print(df.iloc[0 : 2])   # 범위 끝 포함x"
   ]
  },
  {
   "cell_type": "code",
   "execution_count": 18,
   "metadata": {},
   "outputs": [
    {
     "name": "stdout",
     "output_type": "stream",
     "text": [
      "1\n",
      "\n",
      "        col1  col2\n",
      "index1     1     5\n",
      "index3     3     7\n",
      "\n",
      "        col1  col2  col3\n",
      "index1     1     5     9\n",
      "index2     2     6    10\n",
      "index3     3     7    11\n",
      "index4     4     8    12\n"
     ]
    }
   ],
   "source": [
    "print(df.loc[\"index1\", \"col1\"])\n",
    "print()\n",
    "print(df.loc[[\"index1\", \"index3\"], [\"col1\", \"col2\"]])\n",
    "print()\n",
    "print(df.loc[\"index1\" : \"index4\", \"col1\" : \"col3\"])"
   ]
  },
  {
   "cell_type": "code",
   "execution_count": 23,
   "metadata": {},
   "outputs": [
    {
     "name": "stdout",
     "output_type": "stream",
     "text": [
      "1\n",
      "\n",
      "        col1  col2  col3  col4\n",
      "index1     1     5     9    13\n",
      "index2     2     6    10    14\n",
      "index3     3     7    11    15\n",
      "\n",
      "        col1  col2  col3\n",
      "index1     1     5     9\n",
      "index2     2     6    10\n"
     ]
    }
   ],
   "source": [
    "print(df.iloc[0, 0])\n",
    "print()\n",
    "print(df.iloc[[0, 1, 2], [0, 1, 2, 3]])\n",
    "print()\n",
    "print(df.iloc[0 : 2, 0 : 3])"
   ]
  }
 ],
 "metadata": {
  "kernelspec": {
   "display_name": "base",
   "language": "python",
   "name": "python3"
  },
  "language_info": {
   "codemirror_mode": {
    "name": "ipython",
    "version": 3
   },
   "file_extension": ".py",
   "mimetype": "text/x-python",
   "name": "python",
   "nbconvert_exporter": "python",
   "pygments_lexer": "ipython3",
   "version": "3.12.4"
  }
 },
 "nbformat": 4,
 "nbformat_minor": 2
}
