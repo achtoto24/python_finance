{
 "cells": [
  {
   "cell_type": "code",
   "execution_count": 3,
   "metadata": {},
   "outputs": [
    {
     "name": "stdout",
     "output_type": "stream",
     "text": [
      "  species     island  bill_length_mm  bill_depth_mm  flipper_length_mm  \\\n",
      "0  Adelie  Torgersen            39.1           18.7              181.0   \n",
      "1  Adelie  Torgersen            39.5           17.4              186.0   \n",
      "2  Adelie  Torgersen            40.3           18.0              195.0   \n",
      "3  Adelie  Torgersen             NaN            NaN                NaN   \n",
      "4  Adelie  Torgersen            36.7           19.3              193.0   \n",
      "5  Adelie  Torgersen            39.3           20.6              190.0   \n",
      "6  Adelie  Torgersen            38.9           17.8              181.0   \n",
      "7  Adelie  Torgersen            39.2           19.6              195.0   \n",
      "8  Adelie  Torgersen            34.1           18.1              193.0   \n",
      "9  Adelie  Torgersen            42.0           20.2              190.0   \n",
      "\n",
      "   body_mass_g     sex  \n",
      "0       3750.0    Male  \n",
      "1       3800.0  Female  \n",
      "2       3250.0  Female  \n",
      "3          NaN     NaN  \n",
      "4       3450.0  Female  \n",
      "5       3650.0    Male  \n",
      "6       3625.0  Female  \n",
      "7       4675.0    Male  \n",
      "8       3475.0     NaN  \n",
      "9       4250.0     NaN  \n"
     ]
    }
   ],
   "source": [
    "import seaborn as sns\n",
    "\n",
    "df = sns.load_dataset(\"penguins\")\n",
    "print(df.head(10))"
   ]
  },
  {
   "cell_type": "code",
   "execution_count": 5,
   "metadata": {},
   "outputs": [
    {
     "name": "stdout",
     "output_type": "stream",
     "text": [
      "  species     island        variable value\n",
      "0  Adelie  Torgersen  bill_length_mm  39.1\n",
      "1  Adelie  Torgersen  bill_length_mm  39.5\n",
      "2  Adelie  Torgersen  bill_length_mm  40.3\n",
      "3  Adelie  Torgersen  bill_length_mm   NaN\n",
      "4  Adelie  Torgersen  bill_length_mm  36.7\n"
     ]
    }
   ],
   "source": [
    "# melt()\n",
    "\n",
    "print(df.melt(id_vars = [\"species\", \"island\"]).head())"
   ]
  },
  {
   "cell_type": "code",
   "execution_count": 7,
   "metadata": {},
   "outputs": [
    {
     "name": "stdout",
     "output_type": "stream",
     "text": [
      "island        Biscoe      Dream  Torgersen\n",
      "species                                   \n",
      "Adelie     38.975000  38.501786   38.95098\n",
      "Chinstrap        NaN  48.833824        NaN\n",
      "Gentoo     47.504878        NaN        NaN\n"
     ]
    }
   ],
   "source": [
    "# pivot_table()\n",
    "''' -index : 행 인덱스\n",
    "    -columns : 열 인덱스\n",
    "    -values : 데이터 값\n",
    "    -aggfunc : 데이터 집게 함수'''\n",
    "\n",
    "print(df.pivot_table(index = \"species\",\n",
    "                     columns = \"island\",\n",
    "                     values = \"bill_length_mm\",\n",
    "                     aggfunc = \"mean\"))"
   ]
  },
  {
   "cell_type": "code",
   "execution_count": 8,
   "metadata": {},
   "outputs": [
    {
     "name": "stdout",
     "output_type": "stream",
     "text": [
      "                           mean                                          \\\n",
      "                 bill_length_mm                       flipper_length_mm   \n",
      "island                   Biscoe      Dream  Torgersen            Biscoe   \n",
      "species   sex                                                             \n",
      "Adelie    Female      37.359091  36.911111  37.554167        187.181818   \n",
      "          Male        40.590909  40.071429  40.586957        190.409091   \n",
      "Chinstrap Female            NaN  46.573529        NaN               NaN   \n",
      "          Male              NaN  51.094118        NaN               NaN   \n",
      "Gentoo    Female      45.563793        NaN        NaN        212.706897   \n",
      "          Male        49.473770        NaN        NaN        221.540984   \n",
      "\n",
      "                                                  count                  \\\n",
      "                                         bill_length_mm                   \n",
      "island                 Dream   Torgersen         Biscoe Dream Torgersen   \n",
      "species   sex                                                             \n",
      "Adelie    Female  187.851852  188.291667           22.0  27.0      24.0   \n",
      "          Male    191.928571  194.913043           22.0  28.0      23.0   \n",
      "Chinstrap Female  191.735294         NaN            NaN  34.0       NaN   \n",
      "          Male    199.911765         NaN            NaN  34.0       NaN   \n",
      "Gentoo    Female         NaN         NaN           58.0   NaN       NaN   \n",
      "          Male           NaN         NaN           61.0   NaN       NaN   \n",
      "\n",
      "                                                    \n",
      "                 flipper_length_mm                  \n",
      "island                      Biscoe Dream Torgersen  \n",
      "species   sex                                       \n",
      "Adelie    Female              22.0  27.0      24.0  \n",
      "          Male                22.0  28.0      23.0  \n",
      "Chinstrap Female               NaN  34.0       NaN  \n",
      "          Male                 NaN  34.0       NaN  \n",
      "Gentoo    Female              58.0   NaN       NaN  \n",
      "          Male                61.0   NaN       NaN  \n"
     ]
    }
   ],
   "source": [
    "print(df.pivot_table(index = [\"species\", \"sex\"],\n",
    "                     columns = \"island\",\n",
    "                     values = [\"bill_length_mm\", \"flipper_length_mm\"],\n",
    "                     aggfunc = [\"mean\", \"count\"]))"
   ]
  },
  {
   "cell_type": "code",
   "execution_count": 11,
   "metadata": {},
   "outputs": [
    {
     "name": "stdout",
     "output_type": "stream",
     "text": [
      "species    sex     island   \n",
      "Adelie     Female  Biscoe       37.359091\n",
      "                   Dream        36.911111\n",
      "                   Torgersen    37.554167\n",
      "           Male    Biscoe       40.590909\n",
      "                   Dream        40.071429\n",
      "                   Torgersen    40.586957\n",
      "Chinstrap  Female  Dream        46.573529\n",
      "           Male    Dream        51.094118\n",
      "Gentoo     Female  Biscoe       45.563793\n",
      "           Male    Biscoe       49.473770\n",
      "dtype: float64\n",
      "\n",
      "island        Biscoe                 Dream             Torgersen           \n",
      "sex           Female       Male     Female       Male     Female       Male\n",
      "species                                                                    \n",
      "Adelie     37.359091  40.590909  36.911111  40.071429  37.554167  40.586957\n",
      "Chinstrap        NaN        NaN  46.573529  51.094118        NaN        NaN\n",
      "Gentoo     45.563793  49.473770        NaN        NaN        NaN        NaN\n"
     ]
    }
   ],
   "source": [
    "# stack() : 열 인덱스 -> 행 인덱스, unstack() : 행 인덱스 -> 열 인덱스\n",
    "\n",
    "new_df = df.pivot_table(index = [\"species\", \"sex\"],\n",
    "                        columns = \"island\",\n",
    "                        values = \"bill_length_mm\",\n",
    "                        aggfunc = \"mean\")\n",
    "    \n",
    "print(new_df.stack())\n",
    "print()\n",
    "print(new_df.unstack())"
   ]
  }
 ],
 "metadata": {
  "kernelspec": {
   "display_name": "base",
   "language": "python",
   "name": "python3"
  },
  "language_info": {
   "codemirror_mode": {
    "name": "ipython",
    "version": 3
   },
   "file_extension": ".py",
   "mimetype": "text/x-python",
   "name": "python",
   "nbconvert_exporter": "python",
   "pygments_lexer": "ipython3",
   "version": "3.12.4"
  }
 },
 "nbformat": 4,
 "nbformat_minor": 2
}
