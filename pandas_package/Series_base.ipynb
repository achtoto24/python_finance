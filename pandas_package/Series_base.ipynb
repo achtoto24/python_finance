{
 "cells": [
  {
   "cell_type": "code",
   "execution_count": 1,
   "metadata": {},
   "outputs": [
    {
     "name": "stdout",
     "output_type": "stream",
     "text": [
      "a    1\n",
      "b    2\n",
      "c    3\n",
      "dtype: int64 \n",
      " Index(['a', 'b', 'c'], dtype='object') \n",
      " [1 2 3]\n",
      "<class 'pandas.core.series.Series'>\n"
     ]
    }
   ],
   "source": [
    "import pandas as pd\n",
    "\n",
    "dict_data = {'a' : 1, 'b' : 2, 'c' : 3}\n",
    "series = pd.Series(dict_data)\n",
    "print(series, \"\\n\", series.index, \"\\n\", series.values)\n",
    "print(type(series))\n"
   ]
  },
  {
   "cell_type": "code",
   "execution_count": 2,
   "metadata": {},
   "outputs": [
    {
     "name": "stdout",
     "output_type": "stream",
     "text": [
      "0    a\n",
      "1    b\n",
      "2    c\n",
      "dtype: object\n",
      "index     a\n",
      "index2    b\n",
      "index3    c\n",
      "dtype: object\n"
     ]
    }
   ],
   "source": [
    "list_data = ['a', 'b', 'c']\n",
    "series_2 = pd.Series(list_data)\n",
    "print(series_2)\n",
    "print(pd.Series(list_data, index = ['index', 'index2', 'index3']))"
   ]
  },
  {
   "cell_type": "code",
   "execution_count": 21,
   "metadata": {},
   "outputs": [
    {
     "name": "stdout",
     "output_type": "stream",
     "text": [
      "Korea      Seoul\n",
      "Japan      Tokyo\n",
      "China    Beijing\n",
      "dtype: object\n",
      "\n",
      "Seoul\n",
      "\n",
      "China    Beijing\n",
      "Korea      Seoul\n",
      "dtype: object\n",
      "\n",
      "Korea      Seoul\n",
      "China    Beijing\n",
      "dtype: object\n",
      "\n",
      "Korea    Seoul\n",
      "Japan    Tokyo\n",
      "dtype: object\n"
     ]
    },
    {
     "name": "stderr",
     "output_type": "stream",
     "text": [
      "C:\\Users\\user\\AppData\\Local\\Temp\\ipykernel_23240\\2235791917.py:10: FutureWarning: Series.__getitem__ treating keys as positions is deprecated. In a future version, integer keys will always be treated as labels (consistent with DataFrame behavior). To access a value by position, use `ser.iloc[pos]`\n",
      "  print(capital[[0,2]])\n"
     ]
    }
   ],
   "source": [
    "capital = pd.Series({\"Korea\" : \"Seoul\",\n",
    "                     \"Japan\" : \"Tokyo\",\n",
    "                     \"China\" : \"Beijing\"})\n",
    "print(capital)\n",
    "print()\n",
    "print(capital[\"Korea\"])     # print(capital[0])과 같음\n",
    "print()\n",
    "print(capital[[\"China\", \"Korea\"]])\n",
    "print()\n",
    "print(capital[[0,2]])\n",
    "print()\n",
    "print(capital[0:2])"
   ]
  },
  {
   "cell_type": "code",
   "execution_count": 23,
   "metadata": {},
   "outputs": [
    {
     "name": "stdout",
     "output_type": "stream",
     "text": [
      "0    1\n",
      "1    2\n",
      "2    3\n",
      "dtype: int64\n",
      "0    4\n",
      "1    5\n",
      "2    6\n",
      "dtype: int64\n",
      "0    5\n",
      "1    7\n",
      "2    9\n",
      "dtype: int64\n",
      "0    1\n",
      "1    4\n",
      "2    9\n",
      "dtype: int64\n"
     ]
    }
   ],
   "source": [
    "series_1 = pd.Series([1, 2, 3])\n",
    "series_2 = pd.Series([4, 5, 6])\n",
    "\n",
    "print(series_1)\n",
    "print(series_2)\n",
    "print(series_1 + series_2)\n",
    "print(series_1**2)"
   ]
  }
 ],
 "metadata": {
  "kernelspec": {
   "display_name": "base",
   "language": "python",
   "name": "python3"
  },
  "language_info": {
   "codemirror_mode": {
    "name": "ipython",
    "version": 3
   },
   "file_extension": ".py",
   "mimetype": "text/x-python",
   "name": "python",
   "nbconvert_exporter": "python",
   "pygments_lexer": "ipython3",
   "version": "3.12.4"
  }
 },
 "nbformat": 4,
 "nbformat_minor": 2
}
