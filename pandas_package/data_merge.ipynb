{
 "cells": [
  {
   "cell_type": "code",
   "execution_count": 1,
   "metadata": {},
   "outputs": [
    {
     "name": "stdout",
     "output_type": "stream",
     "text": [
      "      A    B    C    D\n",
      "0    A0   B0   C0   D0\n",
      "1    A1   B1   C1   D1\n",
      "2    A2   B2   C2   D2\n",
      "3    A3   B3   C3   D3\n",
      "4    A4   B4   C4   D4\n",
      "5    A5   B5   C5   D5\n",
      "6    A6   B6   C6   D6\n",
      "7    A7   B7   C7   D7\n",
      "8    A8   B8   C8   D8\n",
      "9    A9   B9   C9   D9\n",
      "10  A10  B10  C10  D10\n",
      "11  A11  B11  C11  D11\n"
     ]
    }
   ],
   "source": [
    "import pandas as pd\n",
    "\n",
    "# concat()\n",
    "df1 = pd.DataFrame({\n",
    "    \"A\" : [\"A0\", \"A1\", \"A2\", \"A3\"],\n",
    "    \"B\" : [\"B0\", \"B1\", \"B2\", \"B3\"],\n",
    "    \"C\" : [\"C0\", \"C1\", \"C2\", \"C3\"],\n",
    "    \"D\" : [\"D0\", \"D1\", \"D2\", \"D3\"]\n",
    "}, index = [0, 1, 2, 3])\n",
    "\n",
    "df2 = pd.DataFrame({\n",
    "    \"A\" : [\"A4\", \"A5\", \"A6\", \"A7\"],\n",
    "    \"B\" : [\"B4\", \"B5\", \"B6\", \"B7\"],\n",
    "    \"C\" : [\"C4\", \"C5\", \"C6\", \"C7\"],\n",
    "    \"D\" : [\"D4\", \"D5\", \"D6\", \"D7\"]\n",
    "}, index = [4, 5, 6, 7])\n",
    "\n",
    "df3 = pd.DataFrame({\n",
    "    \"A\" : [\"A8\", \"A9\", \"A10\", \"A11\"],\n",
    "    \"B\" : [\"B8\", \"B9\", \"B10\", \"B11\"],\n",
    "    \"C\" : [\"C8\", \"C9\", \"C10\", \"C11\"],\n",
    "    \"D\" : [\"D8\", \"D9\", \"D10\", \"D11\"]\n",
    "}, index = [8, 9, 10, 11])\n",
    "\n",
    "result = pd.concat([df1, df2, df3])\n",
    "\n",
    "print(result)"
   ]
  },
  {
   "cell_type": "code",
   "execution_count": 10,
   "metadata": {},
   "outputs": [
    {
     "name": "stdout",
     "output_type": "stream",
     "text": [
      "     A    B    C    D    F\n",
      "0   A0   B0   C0   D0  NaN\n",
      "1   A1   B1   C1   D1  NaN\n",
      "2   A2   B2   C2   D2  NaN\n",
      "3   A3   B3   C3   D3  NaN\n",
      "2  NaN   B2   C4  NaN   F1\n",
      "3  NaN   B3   C5  NaN   F2\n",
      "6  NaN  B45  C21  NaN  F56\n",
      "7  NaN  B46  C23  NaN  F57\n"
     ]
    }
   ],
   "source": [
    "df4 = pd.DataFrame({\n",
    "    \"B\" : [\"B2\", \"B3\", \"B45\", \"B46\"],\n",
    "    \"C\" : [\"C4\", \"C5\", \"C21\", \"C23\"],\n",
    "    \"F\" : [\"F1\", \"F2\", \"F56\", \"F57\"]\n",
    "}, index = [2, 3, 6, 7])\n",
    "\n",
    "result = pd.concat([df1, df4])\n",
    "print(result)"
   ]
  },
  {
   "cell_type": "code",
   "execution_count": 8,
   "metadata": {},
   "outputs": [
    {
     "name": "stdout",
     "output_type": "stream",
     "text": [
      "     A    B    C    D    F\n",
      "0   A0   B0   C0   D0  NaN\n",
      "1   A1   B1   C1   D1  NaN\n",
      "2   A2   B2   C2   D2  NaN\n",
      "3   A3   B3   C3   D3  NaN\n",
      "4  NaN   B2   C4  NaN   F1\n",
      "5  NaN   B3   C5  NaN   F2\n",
      "6  NaN  B45  C21  NaN  F56\n",
      "7  NaN  B46  C23  NaN  F57\n"
     ]
    }
   ],
   "source": [
    "# index 초기화 \n",
    "result = pd.concat([df1, df4], ignore_index = True)\n",
    "print(result)"
   ]
  },
  {
   "cell_type": "code",
   "execution_count": 12,
   "metadata": {},
   "outputs": [
    {
     "name": "stdout",
     "output_type": "stream",
     "text": [
      "     A    B    C    D    B    C    F\n",
      "0   A0   B0   C0   D0  NaN  NaN  NaN\n",
      "1   A1   B1   C1   D1  NaN  NaN  NaN\n",
      "2   A2   B2   C2   D2   B2   C4   F1\n",
      "3   A3   B3   C3   D3   B3   C5   F2\n",
      "6  NaN  NaN  NaN  NaN  B45  C21  F56\n",
      "7  NaN  NaN  NaN  NaN  B46  C23  F57\n",
      "\n",
      "    A   B   C   D   B   C   F\n",
      "2  A2  B2  C2  D2  B2  C4  F1\n",
      "3  A3  B3  C3  D3  B3  C5  F2\n"
     ]
    }
   ],
   "source": [
    "# 열 기준으로 데이터 통합\n",
    "print(pd.concat([df1, df4], axis = 1))\n",
    "print()\n",
    "print(pd.concat([df1, df4], axis = 1, join = \"inner\"))  #행 인덱스 값의 합집합이 아닌 교집합으로 병합"
   ]
  },
  {
   "cell_type": "code",
   "execution_count": 15,
   "metadata": {},
   "outputs": [
    {
     "name": "stdout",
     "output_type": "stream",
     "text": [
      "    A   B   C   D   X\n",
      "0  A0  B0  C0  D0  X0\n",
      "1  A1  B1  C1  D1  X1\n",
      "2  A2  B2  C2  D2  X2\n",
      "3  A3  B3  C3  D3  X3\n",
      "\n",
      "     A    B    C    D    X\n",
      "0   A0   B0   C0   D0  NaN\n",
      "1   A1   B1   C1   D1  NaN\n",
      "2   A2   B2   C2   D2  NaN\n",
      "3   A3   B3   C3   D3  NaN\n",
      "0  NaN  NaN  NaN  NaN   X0\n",
      "1  NaN  NaN  NaN  NaN   X1\n",
      "2  NaN  NaN  NaN  NaN   X2\n",
      "3  NaN  NaN  NaN  NaN   X3\n"
     ]
    }
   ],
   "source": [
    "# 데이터프레임과 시리즈 합치기\n",
    "s1 = pd.Series([\"X0\", \"X1\", \"X2\", \"X3\"], name = \"X\")\n",
    "print(pd.concat([df1, s1], axis = 1))\n",
    "print()\n",
    "print(pd.concat([df1, s1]))"
   ]
  },
  {
   "cell_type": "code",
   "execution_count": 19,
   "metadata": {},
   "outputs": [
    {
     "name": "stdout",
     "output_type": "stream",
     "text": [
      "  key   A   B   C   D\n",
      "0  K0  A0  B0  C0  D0\n",
      "1  K1  A1  B1  C1  D1\n",
      "2  K3  A3  B3  C3  D3\n"
     ]
    }
   ],
   "source": [
    "left = pd.DataFrame({\n",
    "    \"key\" : [\"K0\", \"K1\", \"K2\", \"K3\"],\n",
    "    \"A\" : [\"A0\", \"A1\", \"A2\", \"A3\"],\n",
    "    \"B\" : [\"B0\", \"B1\", \"B2\", \"B3\"]\n",
    "})\n",
    "\n",
    "right = pd.DataFrame({\n",
    "    \"key\" : [\"K0\", \"K1\", \"K3\", \"K4\"],\n",
    "    \"C\" : [\"C0\", \"C1\", \"C3\", \"C4\"],\n",
    "    \"D\" : [\"D0\", \"D1\", \"D3\", \"D4\"]\n",
    "})\n",
    "\n",
    "# merge() - inner join\n",
    "print(pd.merge(left, right, on = \"key\"))"
   ]
  },
  {
   "cell_type": "code",
   "execution_count": 20,
   "metadata": {},
   "outputs": [
    {
     "name": "stdout",
     "output_type": "stream",
     "text": [
      "  key   A   B    C    D\n",
      "0  K0  A0  B0   C0   D0\n",
      "1  K1  A1  B1   C1   D1\n",
      "2  K2  A2  B2  NaN  NaN\n",
      "3  K3  A3  B3   C3   D3\n"
     ]
    }
   ],
   "source": [
    "# merge() - left join\n",
    "print(pd.merge(left, right, on = \"key\", how = \"left\"))"
   ]
  },
  {
   "cell_type": "code",
   "execution_count": 21,
   "metadata": {},
   "outputs": [
    {
     "name": "stdout",
     "output_type": "stream",
     "text": [
      "  key    A    B   C   D\n",
      "0  K0   A0   B0  C0  D0\n",
      "1  K1   A1   B1  C1  D1\n",
      "2  K3   A3   B3  C3  D3\n",
      "3  K4  NaN  NaN  C4  D4\n"
     ]
    }
   ],
   "source": [
    "# merge() - right join\n",
    "print(pd.merge(left, right, on = \"key\", how = \"right\"))"
   ]
  },
  {
   "cell_type": "code",
   "execution_count": 22,
   "metadata": {},
   "outputs": [
    {
     "name": "stdout",
     "output_type": "stream",
     "text": [
      "  key    A    B    C    D\n",
      "0  K0   A0   B0   C0   D0\n",
      "1  K1   A1   B1   C1   D1\n",
      "2  K2   A2   B2  NaN  NaN\n",
      "3  K3   A3   B3   C3   D3\n",
      "4  K4  NaN  NaN   C4   D4\n"
     ]
    }
   ],
   "source": [
    "# merge() - outer join\n",
    "print(pd.merge(left, right, on = \"key\", how = \"outer\"))"
   ]
  },
  {
   "cell_type": "code",
   "execution_count": 30,
   "metadata": {},
   "outputs": [
    {
     "name": "stdout",
     "output_type": "stream",
     "text": [
      "  key_left   A   B key_right   C   D\n",
      "0       K0  A0  B0        K0  C0  D0\n",
      "1       K3  A3  B3        K3  C3  D3\n",
      "\n",
      "  key_left   A   B key_right   C   D\n",
      "0       K0  A0  B0        K0  C0  D0\n",
      "1       K3  A3  B3        K3  C3  D3\n"
     ]
    }
   ],
   "source": [
    "# 기준이 되는 열의 이름이 다른 경우\n",
    "\n",
    "left = pd.DataFrame({\n",
    "    \"key_left\" : [\"K0\", \"K1\", \"K2\", \"K3\"],\n",
    "    \"A\" : [\"A0\", \"A1\", \"A2\", \"A3\"],\n",
    "    \"B\" : [\"B0\", \"B1\", \"B2\", \"B3\"]\n",
    "})\n",
    "\n",
    "right = pd.DataFrame({\n",
    "    \"key_right\" : [\"K0\", \"k1\", \"K3\", \"K4\"],\n",
    "    \"C\" : [\"C0\", \"C1\", \"C3\", \"C4\"],\n",
    "    \"D\" : [\"D0\", \"D1\", \"D3\", \"D4\"],\n",
    "})\n",
    "\n",
    "#1\n",
    "print(pd.merge(left, right, left_on = \"key_left\", right_on = \"key_right\", how = \"inner\"))\n",
    "\n",
    "print()\n",
    "\n",
    "#2\n",
    "print(left.merge(right, left_on = \"key_left\", right_on = \"key_right\", how = \"inner\"))"
   ]
  },
  {
   "cell_type": "code",
   "execution_count": 32,
   "metadata": {},
   "outputs": [
    {
     "name": "stdout",
     "output_type": "stream",
     "text": [
      "     A   B    C    D\n",
      "K0  A0  B0   A0   B0\n",
      "K1  A1  B1   A1   B1\n",
      "K2  A2  B2  NaN  NaN\n",
      "K3  A3  B3   A3   B3\n",
      "\n",
      "     C   D    A    B\n",
      "K0  A0  B0   A0   B0\n",
      "K1  A1  B1   A1   B1\n",
      "K3  A3  B3   A3   B3\n",
      "K4  A4  B4  NaN  NaN\n"
     ]
    }
   ],
   "source": [
    "# join() : 행 인덱스를 기준으로 병합\n",
    "\n",
    "left = pd.DataFrame({\n",
    "    \"A\" : [\"A0\", \"A1\", \"A2\", \"A3\"],\n",
    "    \"B\" : [\"B0\", \"B1\", \"B2\", \"B3\"]},\n",
    "    index = [\"K0\", \"K1\", \"K2\", \"K3\"])\n",
    "\n",
    "right = pd.DataFrame({\n",
    "    \"C\" : [\"A0\", \"A1\", \"A3\", \"A4\"],\n",
    "    \"D\" : [\"B0\", \"B1\", \"B3\", \"B4\"]},\n",
    "    index = [\"K0\", \"K1\", \"K3\", \"K4\"])\n",
    "\n",
    "print(left.join(right))\n",
    "print()\n",
    "print(right.join(left))"
   ]
  }
 ],
 "metadata": {
  "kernelspec": {
   "display_name": "base",
   "language": "python",
   "name": "python3"
  },
  "language_info": {
   "codemirror_mode": {
    "name": "ipython",
    "version": 3
   },
   "file_extension": ".py",
   "mimetype": "text/x-python",
   "name": "python",
   "nbconvert_exporter": "python",
   "pygments_lexer": "ipython3",
   "version": "3.12.4"
  }
 },
 "nbformat": 4,
 "nbformat_minor": 2
}
