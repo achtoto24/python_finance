{
 "cells": [
  {
   "cell_type": "code",
   "execution_count": 5,
   "metadata": {},
   "outputs": [
    {
     "name": "stderr",
     "output_type": "stream",
     "text": [
      "<>:4: SyntaxWarning: invalid escape sequence '\\d'\n",
      "<>:4: SyntaxWarning: invalid escape sequence '\\d'\n",
      "C:\\Users\\user\\AppData\\Local\\Temp\\ipykernel_21844\\219227766.py:4: SyntaxWarning: invalid escape sequence '\\d'\n",
      "  re.findall(\"\\d+.\\d+%\", data)\n"
     ]
    },
    {
     "data": {
      "text/plain": [
       "['29.2%']"
      ]
     },
     "execution_count": 5,
     "metadata": {},
     "output_type": "execute_result"
    }
   ],
   "source": [
    "import re\n",
    "\n",
    "data = \"동 기업의 매출액은 전년 대비 29.2% 늘어났습니다.\"\n",
    "re.findall(\"\\d+.\\d+%\", data)"
   ]
  },
  {
   "cell_type": "code",
   "execution_count": 12,
   "metadata": {},
   "outputs": [
    {
     "name": "stdout",
     "output_type": "stream",
     "text": [
      "<class 're.Pattern'>\n",
      "<re.Match object; span=(0, 6), match='python'>\n",
      "python\n",
      "None\n"
     ]
    }
   ],
   "source": [
    "p = re.compile(\"[a-z]+\")\n",
    "print(type(p))\n",
    "\n",
    "m = p.match(\"python\")   # match()는 시작 부분부터 일치하는 패턴을 찾음\n",
    "print(m)\n",
    "print(m.group())\n",
    "print(p.match(\"Use Python\"))    # 대문자 'U'는 매칭 안 됨"
   ]
  },
  {
   "cell_type": "code",
   "execution_count": 13,
   "metadata": {},
   "outputs": [
    {
     "name": "stdout",
     "output_type": "stream",
     "text": [
      "<re.Match object; span=(0, 3), match='파이썬'>\n"
     ]
    }
   ],
   "source": [
    "t = re.compile(\"[가-힣]+\")  # 모든 한글을 나타냄\n",
    "l = t.match(\"파이썬\")\n",
    "print(l)"
   ]
  },
  {
   "cell_type": "code",
   "execution_count": 15,
   "metadata": {},
   "outputs": [
    {
     "name": "stdout",
     "output_type": "stream",
     "text": [
      "<re.Match object; span=(1, 3), match='se'>\n"
     ]
    }
   ],
   "source": [
    "p = re.compile(\"[a-z]+\")\n",
    "m = p.search(\"Use python\")  # search()는 첫 번째 일치하는 패턴을 찾음\n",
    "print(m)"
   ]
  },
  {
   "cell_type": "code",
   "execution_count": 17,
   "metadata": {},
   "outputs": [
    {
     "name": "stdout",
     "output_type": "stream",
     "text": [
      "['I', 'will', 'buy', 'a', 'lego', 'set', 'as', 'fast', 'as', 'I', 'can']\n"
     ]
    }
   ],
   "source": [
    "p = re.compile(\"[a-zA-Z]+\") \n",
    "m = p.findall(\"I will buy a lego set as fast as I can!\") # findall()은 일치하는 모든 문자 패턴을 찾음\n",
    "print(m)"
   ]
  },
  {
   "cell_type": "code",
   "execution_count": 19,
   "metadata": {},
   "outputs": [
    {
     "name": "stdout",
     "output_type": "stream",
     "text": [
      "<callable_iterator object at 0x000001E1F88A1E40>\n",
      "<re.Match object; span=(0, 1), match='I'>\n",
      "<re.Match object; span=(2, 6), match='will'>\n",
      "<re.Match object; span=(7, 10), match='buy'>\n",
      "<re.Match object; span=(11, 12), match='a'>\n",
      "<re.Match object; span=(13, 17), match='lego'>\n",
      "<re.Match object; span=(18, 21), match='set'>\n",
      "<re.Match object; span=(22, 24), match='as'>\n",
      "<re.Match object; span=(25, 29), match='fast'>\n",
      "<re.Match object; span=(30, 32), match='as'>\n",
      "<re.Match object; span=(33, 34), match='I'>\n",
      "<re.Match object; span=(35, 38), match='can'>\n"
     ]
    }
   ],
   "source": [
    "p = re.compile(\"[a-zA-Z]+\") \n",
    "m = p.finditer(\"I will buy a lego set as fast as I can!\")   # finditer()는 반복 가능한 객체(callable_iterator object) 반환\n",
    "print(m)\n",
    "\n",
    "for i in m :\n",
    "    print(i)"
   ]
  }
 ],
 "metadata": {
  "kernelspec": {
   "display_name": "base",
   "language": "python",
   "name": "python3"
  },
  "language_info": {
   "codemirror_mode": {
    "name": "ipython",
    "version": 3
   },
   "file_extension": ".py",
   "mimetype": "text/x-python",
   "name": "python",
   "nbconvert_exporter": "python",
   "pygments_lexer": "ipython3",
   "version": "3.12.4"
  }
 },
 "nbformat": 4,
 "nbformat_minor": 2
}
